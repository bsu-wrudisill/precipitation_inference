{
 "cells": [
  {
   "cell_type": "code",
   "execution_count": 59,
   "metadata": {},
   "outputs": [],
   "source": [
    "import numpy as np\n",
    "import matplotlib.pyplot as plt\n",
    "import pandas as pd "
   ]
  },
  {
   "cell_type": "markdown",
   "metadata": {},
   "source": [
    "#### Direct water input to streamchannel"
   ]
  },
  {
   "cell_type": "code",
   "execution_count": 3,
   "metadata": {},
   "outputs": [],
   "source": [
    "def qDirect(frtdir, Pr, Md):\n",
    "    # Qd in Clark paper \n",
    "    # Pr: precipitation\n",
    "    # Md: snowmelt \n",
    "    # frdir: parameter \n",
    "    Qd = frtdir * (Pr + Md)\n",
    "    return Qd \n",
    "    \n",
    "def qsoilInput(frtdir, Pr, Md):\n",
    "    # Wi in Clark paper\n",
    "    return (1-frtdir) * (Pr + Md)\n",
    "\n"
   ]
  },
  {
   "cell_type": "markdown",
   "metadata": {},
   "source": [
    "#### Compute soil water balance"
   ]
  },
  {
   "cell_type": "code",
   "execution_count": null,
   "metadata": {},
   "outputs": [],
   "source": [
    "# \n",
    "def qBaseflow(frtgw, Wb):\n",
    "    # Qb in Clark paper \n",
    "    Qb = frtgw * Wb \n",
    "    return Qb \n",
    "\n",
    "\n",
    "def dWUdt(Wi, D, E):\n",
    "    # change in water content of soil layer over time\n",
    "    # Wi: water input. returned from qsoilInput\n",
    "    # D: drainage from the upper soil layer to lower layer\n",
    "    # E: Evaporation \n",
    "    return Wi - D - E\n",
    "\n",
    "\n",
    "def dWBdt(D, Qb):\n",
    "    # change in water content of soil layer over time\n",
    "    # D: drainage from the upper soil layer to lower layer\n",
    "    # Qb: baseflow \n",
    "    return D - Qb \n",
    "\n",
    "def Drainage(Wu, smcap):\n",
    "    # D in the paper\n",
    "    # Wu: water content of the upper layer\n",
    "    # smcap: parameter\n",
    "    if Wu > smcap:\n",
    "        D = Wu - smcap\n",
    "    else:\n",
    "        D = 0\n",
    "\n",
    "    # D is \"drainage\"\n",
    "    return D\n",
    "    \n",
    "\n",
    "\n",
    "\n",
    "\n",
    "\n",
    "def Ms(Td, tmelt, ddpar, Snow):\n",
    "    # Td: daily temperature\n",
    "    # tmelt: amount of melt\n",
    "    # ddpar: melt factor \n",
    "\n",
    "    if Td > tmelt:\n",
    "        max_melt = (Td - tmelt)*ddpar\n",
    "        # check how much snow is left. if max melt g.t. snow, then return snow\n",
    "        if max_melt > Snow:  \n",
    "            return Snow\n",
    "\n",
    "        # retun the maximum amount of melt if there is no snow limitation \n",
    "        else:\n",
    "            return max_melt # \n",
    "    else:\n",
    "        return 0 \n",
    "    "
   ]
  },
  {
   "cell_type": "markdown",
   "metadata": {},
   "source": [
    "#### Evaporation"
   ]
  },
  {
   "cell_type": "code",
   "execution_count": null,
   "metadata": {},
   "outputs": [],
   "source": [
    "def Evaporation(PET, Wu, smcap):\n",
    "    return PET * (Wu/smcap)\n",
    "\n",
    "\n",
    "def PET_Calc(etpar, L, rho_v_sat):\n",
    "    # Potential evapotranspiration calculator\n",
    "    # L: Length of day\n",
    "    # rho_v_sat: staturated absolute humidity\n",
    "    # etpar: parameter\n",
    "    return etpar*L*rho_v_sat"
   ]
  },
  {
   "cell_type": "code",
   "execution_count": null,
   "metadata": {},
   "outputs": [],
   "source": []
  },
  {
   "cell_type": "code",
   "execution_count": 78,
   "metadata": {},
   "outputs": [],
   "source": [
    "# Time\n",
    "T = np.linspace(1,365,365)\n",
    "\n",
    "# Forcings ... made up numbers\n",
    "len_of_day_hr = 7*np.sin(np.pi*(T/365))+5  # WRONG forumula. approx for beta test purposes\n",
    "daily_temperature = 4*(np.sin(np.pi*(T/365)) - .5) + np.random.rand(365) # also wrong/weird\n",
    "precip = np.random.rand(365)*50 - 40 \n",
    "precip[np.where(precip <0)] = 0\n",
    "\n",
    "# Setup the Buckets \n",
    "Water_bottom=0    # Wb in paper\n",
    "Water_upper=0     # Wu in paper \n",
    "Snow=0 \n",
    "\n",
    "# parameters \n",
    "frtdir\n",
    "frtgw\n",
    "\n",
    "smcap\n",
    "ddpar # this is actually a function \n",
    "etpar \n",
    "\n",
    "def advnace_one_timestep(P, T):\n",
    "    "
   ]
  },
  {
   "cell_type": "code",
   "execution_count": 81,
   "metadata": {},
   "outputs": [
    {
     "data": {
      "text/plain": [
       "[<matplotlib.lines.Line2D at 0x118f54150>]"
      ]
     },
     "execution_count": 81,
     "metadata": {},
     "output_type": "execute_result"
    },
    {
     "data": {
      "image/png": "[encoded data removed]",
      "text/plain": [
       "<Figure size 432x288 with 1 Axes>"
      ]
     },
     "metadata": {
      "needs_background": "light"
     },
     "output_type": "display_data"
    }
   ],
   "source": [
    "plt.plot(len_of_day_hr)\n",
    "# for time in T:\n",
    "#     # compute melt \n",
    "#     Wd = "
   ]
  },
  {
   "cell_type": "code",
   "execution_count": null,
   "metadata": {},
   "outputs": [],
   "source": []
  }
 ],
 "metadata": {
  "kernelspec": {
   "display_name": "Python 3",
   "language": "python",
   "name": "python3"
  },
  "language_info": {
   "codemirror_mode": {
    "name": "ipython",
    "version": 3
   },
   "file_extension": ".py",
   "mimetype": "text/x-python",
   "name": "python",
   "nbconvert_exporter": "python",
   "pygments_lexer": "ipython3",
   "version": "3.7.4"
  }
 },
 "nbformat": 4,
 "nbformat_minor": 4
}
